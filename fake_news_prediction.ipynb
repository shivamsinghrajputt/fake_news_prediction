{
 "cells": [
  {
   "cell_type": "code",
   "execution_count": 81,
   "id": "a3dae6de",
   "metadata": {},
   "outputs": [],
   "source": [
    "# libraries\n",
    "import pandas as pd\n",
    "import numpy as np\n",
    "import re  #for searching words in pera..\n",
    "from nltk.corpus import stopwords   #to remove stop words like --where, what,etc\n",
    "from nltk.stem.porter import PorterStemmer #nltl - natural language tool kit \n",
    "from sklearn.feature_extraction.text import TfidfVectorizer  # to convert text into feature vectors\n",
    "from sklearn.model_selection import train_test_split\n",
    "from sklearn.linear_model import LogisticRegression\n",
    "from sklearn.metrics import accuracy_score"
   ]
  },
  {
   "cell_type": "code",
   "execution_count": 52,
   "id": "56cfc22a",
   "metadata": {},
   "outputs": [],
   "source": [
    "#Load Data......\n",
    "data= pd.read_csv('D:\\\\datata\\\\train.csv')"
   ]
  },
  {
   "cell_type": "code",
   "execution_count": 53,
   "id": "b49dccbf",
   "metadata": {},
   "outputs": [
    {
     "data": {
      "text/html": [
       "<div>\n",
       "<style scoped>\n",
       "    .dataframe tbody tr th:only-of-type {\n",
       "        vertical-align: middle;\n",
       "    }\n",
       "\n",
       "    .dataframe tbody tr th {\n",
       "        vertical-align: top;\n",
       "    }\n",
       "\n",
       "    .dataframe thead th {\n",
       "        text-align: right;\n",
       "    }\n",
       "</style>\n",
       "<table border=\"1\" class=\"dataframe\">\n",
       "  <thead>\n",
       "    <tr style=\"text-align: right;\">\n",
       "      <th></th>\n",
       "      <th>id</th>\n",
       "      <th>title</th>\n",
       "      <th>author</th>\n",
       "      <th>text</th>\n",
       "      <th>label</th>\n",
       "    </tr>\n",
       "  </thead>\n",
       "  <tbody>\n",
       "    <tr>\n",
       "      <th>0</th>\n",
       "      <td>0</td>\n",
       "      <td>House Dem Aide: We Didn’t Even See Comey’s Let...</td>\n",
       "      <td>Darrell Lucus</td>\n",
       "      <td>House Dem Aide: We Didn’t Even See Comey’s Let...</td>\n",
       "      <td>1</td>\n",
       "    </tr>\n",
       "    <tr>\n",
       "      <th>1</th>\n",
       "      <td>1</td>\n",
       "      <td>FLYNN: Hillary Clinton, Big Woman on Campus - ...</td>\n",
       "      <td>Daniel J. Flynn</td>\n",
       "      <td>Ever get the feeling your life circles the rou...</td>\n",
       "      <td>0</td>\n",
       "    </tr>\n",
       "    <tr>\n",
       "      <th>2</th>\n",
       "      <td>2</td>\n",
       "      <td>Why the Truth Might Get You Fired</td>\n",
       "      <td>Consortiumnews.com</td>\n",
       "      <td>Why the Truth Might Get You Fired October 29, ...</td>\n",
       "      <td>1</td>\n",
       "    </tr>\n",
       "    <tr>\n",
       "      <th>3</th>\n",
       "      <td>3</td>\n",
       "      <td>15 Civilians Killed In Single US Airstrike Hav...</td>\n",
       "      <td>Jessica Purkiss</td>\n",
       "      <td>Videos 15 Civilians Killed In Single US Airstr...</td>\n",
       "      <td>1</td>\n",
       "    </tr>\n",
       "    <tr>\n",
       "      <th>4</th>\n",
       "      <td>4</td>\n",
       "      <td>Iranian woman jailed for fictional unpublished...</td>\n",
       "      <td>Howard Portnoy</td>\n",
       "      <td>Print \\nAn Iranian woman has been sentenced to...</td>\n",
       "      <td>1</td>\n",
       "    </tr>\n",
       "    <tr>\n",
       "      <th>...</th>\n",
       "      <td>...</td>\n",
       "      <td>...</td>\n",
       "      <td>...</td>\n",
       "      <td>...</td>\n",
       "      <td>...</td>\n",
       "    </tr>\n",
       "    <tr>\n",
       "      <th>20795</th>\n",
       "      <td>20795</td>\n",
       "      <td>Rapper T.I.: Trump a ’Poster Child For White S...</td>\n",
       "      <td>Jerome Hudson</td>\n",
       "      <td>Rapper T. I. unloaded on black celebrities who...</td>\n",
       "      <td>0</td>\n",
       "    </tr>\n",
       "    <tr>\n",
       "      <th>20796</th>\n",
       "      <td>20796</td>\n",
       "      <td>N.F.L. Playoffs: Schedule, Matchups and Odds -...</td>\n",
       "      <td>Benjamin Hoffman</td>\n",
       "      <td>When the Green Bay Packers lost to the Washing...</td>\n",
       "      <td>0</td>\n",
       "    </tr>\n",
       "    <tr>\n",
       "      <th>20797</th>\n",
       "      <td>20797</td>\n",
       "      <td>Macy’s Is Said to Receive Takeover Approach by...</td>\n",
       "      <td>Michael J. de la Merced and Rachel Abrams</td>\n",
       "      <td>The Macy’s of today grew from the union of sev...</td>\n",
       "      <td>0</td>\n",
       "    </tr>\n",
       "    <tr>\n",
       "      <th>20798</th>\n",
       "      <td>20798</td>\n",
       "      <td>NATO, Russia To Hold Parallel Exercises In Bal...</td>\n",
       "      <td>Alex Ansary</td>\n",
       "      <td>NATO, Russia To Hold Parallel Exercises In Bal...</td>\n",
       "      <td>1</td>\n",
       "    </tr>\n",
       "    <tr>\n",
       "      <th>20799</th>\n",
       "      <td>20799</td>\n",
       "      <td>What Keeps the F-35 Alive</td>\n",
       "      <td>David Swanson</td>\n",
       "      <td>David Swanson is an author, activist, journa...</td>\n",
       "      <td>1</td>\n",
       "    </tr>\n",
       "  </tbody>\n",
       "</table>\n",
       "<p>20800 rows × 5 columns</p>\n",
       "</div>"
      ],
      "text/plain": [
       "          id                                              title  \\\n",
       "0          0  House Dem Aide: We Didn’t Even See Comey’s Let...   \n",
       "1          1  FLYNN: Hillary Clinton, Big Woman on Campus - ...   \n",
       "2          2                  Why the Truth Might Get You Fired   \n",
       "3          3  15 Civilians Killed In Single US Airstrike Hav...   \n",
       "4          4  Iranian woman jailed for fictional unpublished...   \n",
       "...      ...                                                ...   \n",
       "20795  20795  Rapper T.I.: Trump a ’Poster Child For White S...   \n",
       "20796  20796  N.F.L. Playoffs: Schedule, Matchups and Odds -...   \n",
       "20797  20797  Macy’s Is Said to Receive Takeover Approach by...   \n",
       "20798  20798  NATO, Russia To Hold Parallel Exercises In Bal...   \n",
       "20799  20799                          What Keeps the F-35 Alive   \n",
       "\n",
       "                                          author  \\\n",
       "0                                  Darrell Lucus   \n",
       "1                                Daniel J. Flynn   \n",
       "2                             Consortiumnews.com   \n",
       "3                                Jessica Purkiss   \n",
       "4                                 Howard Portnoy   \n",
       "...                                          ...   \n",
       "20795                              Jerome Hudson   \n",
       "20796                           Benjamin Hoffman   \n",
       "20797  Michael J. de la Merced and Rachel Abrams   \n",
       "20798                                Alex Ansary   \n",
       "20799                              David Swanson   \n",
       "\n",
       "                                                    text  label  \n",
       "0      House Dem Aide: We Didn’t Even See Comey’s Let...      1  \n",
       "1      Ever get the feeling your life circles the rou...      0  \n",
       "2      Why the Truth Might Get You Fired October 29, ...      1  \n",
       "3      Videos 15 Civilians Killed In Single US Airstr...      1  \n",
       "4      Print \\nAn Iranian woman has been sentenced to...      1  \n",
       "...                                                  ...    ...  \n",
       "20795  Rapper T. I. unloaded on black celebrities who...      0  \n",
       "20796  When the Green Bay Packers lost to the Washing...      0  \n",
       "20797  The Macy’s of today grew from the union of sev...      0  \n",
       "20798  NATO, Russia To Hold Parallel Exercises In Bal...      1  \n",
       "20799    David Swanson is an author, activist, journa...      1  \n",
       "\n",
       "[20800 rows x 5 columns]"
      ]
     },
     "execution_count": 53,
     "metadata": {},
     "output_type": "execute_result"
    }
   ],
   "source": [
    "data"
   ]
  },
  {
   "cell_type": "code",
   "execution_count": 54,
   "id": "f9e43001",
   "metadata": {},
   "outputs": [
    {
     "data": {
      "text/plain": [
       "id           0\n",
       "title      558\n",
       "author    1957\n",
       "text        39\n",
       "label        0\n",
       "dtype: int64"
      ]
     },
     "execution_count": 54,
     "metadata": {},
     "output_type": "execute_result"
    }
   ],
   "source": [
    "data.isnull().sum()"
   ]
  },
  {
   "cell_type": "code",
   "execution_count": 55,
   "id": "0cbd5f81",
   "metadata": {},
   "outputs": [],
   "source": [
    "data= data.fillna('')"
   ]
  },
  {
   "cell_type": "code",
   "execution_count": 56,
   "id": "e415bb48",
   "metadata": {},
   "outputs": [],
   "source": [
    "  data['author_text'] = data['author'] + \"  \"+ data['title']"
   ]
  },
  {
   "cell_type": "code",
   "execution_count": 57,
   "id": "95341d40",
   "metadata": {},
   "outputs": [],
   "source": [
    "#separate the data and lebel...\n",
    "x= data.drop(columns='label', axis=1)\n",
    "y=data['label']\n"
   ]
  },
  {
   "cell_type": "markdown",
   "id": "df1b6694",
   "metadata": {},
   "source": [
    "# stemming process"
   ]
  },
  {
   "cell_type": "code",
   "execution_count": 71,
   "id": "e09b61b2",
   "metadata": {},
   "outputs": [],
   "source": [
    "port_stem = PorterStemmer()"
   ]
  },
  {
   "cell_type": "code",
   "execution_count": 72,
   "id": "6f522659",
   "metadata": {},
   "outputs": [],
   "source": [
    "def stemming(author):\n",
    "    stemmed_content = re.sub('[^a-zA-Z]', ' ', author)\n",
    "    stemmed_content = stemmed_content.lower()\n",
    "    stemmed_content = stemmed_content.split()\n",
    "    stemmed_content = [port_stem.stem(word) for word in stemmed_content if not word in stopwords.words('english')]\n",
    "    stemmed_content = ' '.join(stemmed_content)\n",
    "    return stemmed_content"
   ]
  },
  {
   "cell_type": "code",
   "execution_count": 73,
   "id": "1f588787",
   "metadata": {},
   "outputs": [],
   "source": [
    "data['author_text'] = data['author_text'].apply(stemming)"
   ]
  },
  {
   "cell_type": "code",
   "execution_count": 84,
   "id": "b8905271",
   "metadata": {},
   "outputs": [],
   "source": [
    "#separating data\n",
    "x= data['author'].values\n",
    "y= data['label'].values"
   ]
  },
  {
   "cell_type": "code",
   "execution_count": 85,
   "id": "1bd38757",
   "metadata": {},
   "outputs": [
    {
     "name": "stdout",
     "output_type": "stream",
     "text": [
      "['Darrell Lucus' 'Daniel J. Flynn' 'Consortiumnews.com' ...\n",
      " 'Michael J. de la Merced and Rachel Abrams' 'Alex Ansary' 'David Swanson']\n"
     ]
    }
   ],
   "source": [
    "print(x)"
   ]
  },
  {
   "cell_type": "code",
   "execution_count": 86,
   "id": "f35c3eaf",
   "metadata": {},
   "outputs": [
    {
     "name": "stdout",
     "output_type": "stream",
     "text": [
      "[1 0 1 ... 0 1 1]\n"
     ]
    }
   ],
   "source": [
    "print(y)"
   ]
  },
  {
   "cell_type": "markdown",
   "id": "d26ccd29",
   "metadata": {},
   "source": [
    "# convert textual data in numerical\n"
   ]
  },
  {
   "cell_type": "code",
   "execution_count": 87,
   "id": "2191ae66",
   "metadata": {},
   "outputs": [],
   "source": [
    "vectorizer = TfidfVectorizer()\n",
    "vectorizer.fit(x)\n",
    "\n",
    "x= vectorizer.transform(x)"
   ]
  },
  {
   "cell_type": "code",
   "execution_count": 88,
   "id": "264be8e5",
   "metadata": {},
   "outputs": [
    {
     "name": "stdout",
     "output_type": "stream",
     "text": [
      "  (0, 2407)\t0.7071067811865475\n",
      "  (0, 965)\t0.7071067811865475\n",
      "  (1, 1364)\t0.833190949022925\n",
      "  (1, 948)\t0.5529853908253612\n",
      "  (2, 856)\t0.8208192105782462\n",
      "  (2, 836)\t0.571188080710465\n",
      "  (3, 3178)\t0.7459535660715113\n",
      "  (3, 1980)\t0.6659979559016646\n",
      "  (4, 3119)\t0.7113383829885128\n",
      "  (4, 1786)\t0.7028497029147042\n",
      "  (5, 2890)\t0.7564257934989979\n",
      "  (5, 948)\t0.6540795203409229\n",
      "  (7, 3405)\t0.6994632176078436\n",
      "  (7, 164)\t0.7146685995716354\n",
      "  (9, 4030)\t0.5349472943939276\n",
      "  (9, 3588)\t0.48355016557568925\n",
      "  (9, 3532)\t0.39866869807686334\n",
      "  (9, 2606)\t0.5198494491781805\n",
      "  (9, 208)\t0.22545609096935282\n",
      "  (10, 2180)\t0.7238616446147673\n",
      "  (10, 71)\t0.6899451568462557\n",
      "  (11, 3975)\t0.7445571572287767\n",
      "  (11, 761)\t0.667558716233563\n",
      "  (12, 1352)\t0.7071067811865475\n",
      "  (12, 188)\t0.7071067811865475\n",
      "  :\t:\n",
      "  (20790, 3597)\t0.7848608077090216\n",
      "  (20790, 92)\t0.6196721008100514\n",
      "  (20791, 1581)\t0.7977923554536009\n",
      "  (20791, 948)\t0.6029322993336775\n",
      "  (20792, 2013)\t0.6364225567199054\n",
      "  (20792, 1689)\t0.7713406052439471\n",
      "  (20793, 3344)\t0.6244274593036541\n",
      "  (20793, 3309)\t0.7810828048725584\n",
      "  (20794, 3782)\t0.7847551924598525\n",
      "  (20794, 2296)\t0.6198058469450736\n",
      "  (20795, 1972)\t0.707460536196382\n",
      "  (20795, 1796)\t0.7067528491097349\n",
      "  (20796, 1760)\t0.738377060876734\n",
      "  (20796, 418)\t0.6743881048558282\n",
      "  (20797, 3198)\t0.3811543026600152\n",
      "  (20797, 2640)\t0.26904974745259475\n",
      "  (20797, 2623)\t0.4406525664282091\n",
      "  (20797, 2251)\t0.4275693658779704\n",
      "  (20797, 984)\t0.39682421809092355\n",
      "  (20797, 208)\t0.20326075123539838\n",
      "  (20797, 81)\t0.45448761365536045\n",
      "  (20798, 232)\t0.7296336477153182\n",
      "  (20798, 145)\t0.6838382411957077\n",
      "  (20799, 3830)\t0.8216785323293309\n",
      "  (20799, 975)\t0.5699512167801003\n"
     ]
    }
   ],
   "source": [
    "print(x)"
   ]
  },
  {
   "cell_type": "markdown",
   "id": "53963954",
   "metadata": {},
   "source": [
    "# model_selection"
   ]
  },
  {
   "cell_type": "code",
   "execution_count": 90,
   "id": "bf5dc251",
   "metadata": {},
   "outputs": [],
   "source": [
    "#splitting the data for train & test...\n",
    "x_train,x_test,y_train,y_test =train_test_split(x,y,test_size=0.2,random_state=2)"
   ]
  },
  {
   "cell_type": "code",
   "execution_count": 92,
   "id": "55ef833c",
   "metadata": {},
   "outputs": [
    {
     "data": {
      "text/plain": [
       "LogisticRegression()"
      ]
     },
     "execution_count": 92,
     "metadata": {},
     "output_type": "execute_result"
    }
   ],
   "source": [
    "#logistic Regression...\n",
    "model=LogisticRegression()\n",
    "model.fit(x_train,y_train)"
   ]
  },
  {
   "cell_type": "code",
   "execution_count": 93,
   "id": "45f16d06",
   "metadata": {},
   "outputs": [
    {
     "data": {
      "text/plain": [
       "array([1, 1, 1, ..., 1, 1, 0], dtype=int64)"
      ]
     },
     "execution_count": 93,
     "metadata": {},
     "output_type": "execute_result"
    }
   ],
   "source": [
    "#evaluation...\n",
    "model.predict(x_test)"
   ]
  },
  {
   "cell_type": "code",
   "execution_count": 97,
   "id": "e6e29ba2",
   "metadata": {},
   "outputs": [],
   "source": [
    "#on_train_data\n",
    "x_train_prediction = model.predict(x_train)\n",
    "train_data_accuracy = accuracy_score(x_train_prediction,y_train)"
   ]
  },
  {
   "cell_type": "code",
   "execution_count": 98,
   "id": "36a2e735",
   "metadata": {},
   "outputs": [
    {
     "name": "stdout",
     "output_type": "stream",
     "text": [
      "accuracy_score:  0.9678485576923077\n"
     ]
    }
   ],
   "source": [
    "print('accuracy_score_train: ',train_data_accuracy)"
   ]
  },
  {
   "cell_type": "code",
   "execution_count": 102,
   "id": "87fb34d6",
   "metadata": {},
   "outputs": [],
   "source": [
    "#on_test_data\n",
    "x_test_prediction = model.predict(x_test)\n",
    "test_data_accuracy = accuracy_score(x_test_prediction,y_test)"
   ]
  },
  {
   "cell_type": "code",
   "execution_count": 103,
   "id": "e057ca54",
   "metadata": {},
   "outputs": [
    {
     "name": "stdout",
     "output_type": "stream",
     "text": [
      "accuracy_score_test:  0.9528846153846153\n"
     ]
    }
   ],
   "source": [
    "print('accuracy_score_test: ', test_data_accuracy)"
   ]
  },
  {
   "cell_type": "code",
   "execution_count": null,
   "id": "171479f6",
   "metadata": {},
   "outputs": [],
   "source": []
  },
  {
   "cell_type": "markdown",
   "id": "7e92d598",
   "metadata": {},
   "source": [
    "# making_predictive_model"
   ]
  },
  {
   "cell_type": "code",
   "execution_count": 104,
   "id": "4a0856cb",
   "metadata": {},
   "outputs": [
    {
     "name": "stdout",
     "output_type": "stream",
     "text": [
      "[1]\n"
     ]
    }
   ],
   "source": [
    "x_new = x_test[10]\n",
    "prediction = model.predict(x_new)\n",
    "print(prediction)\n"
   ]
  },
  {
   "cell_type": "code",
   "execution_count": 106,
   "id": "6b13c677",
   "metadata": {},
   "outputs": [
    {
     "name": "stdout",
     "output_type": "stream",
     "text": [
      "The News is Fake...!!!\n"
     ]
    }
   ],
   "source": [
    "if (prediction[0]==0):\n",
    "    print('The news is Real..... !!!')\n",
    "else:\n",
    "    print('The News is Fake...!!!')\n",
    "    "
   ]
  },
  {
   "cell_type": "code",
   "execution_count": 107,
   "id": "679b6472",
   "metadata": {},
   "outputs": [
    {
     "name": "stdout",
     "output_type": "stream",
     "text": [
      "1\n"
     ]
    }
   ],
   "source": [
    "#check...model\n",
    "print(y_test[10])"
   ]
  },
  {
   "cell_type": "code",
   "execution_count": null,
   "id": "5db1f59e",
   "metadata": {},
   "outputs": [],
   "source": []
  }
 ],
 "metadata": {
  "kernelspec": {
   "display_name": "Python 3 (ipykernel)",
   "language": "python",
   "name": "python3"
  },
  "language_info": {
   "codemirror_mode": {
    "name": "ipython",
    "version": 3
   },
   "file_extension": ".py",
   "mimetype": "text/x-python",
   "name": "python",
   "nbconvert_exporter": "python",
   "pygments_lexer": "ipython3",
   "version": "3.9.13"
  }
 },
 "nbformat": 4,
 "nbformat_minor": 5
}
